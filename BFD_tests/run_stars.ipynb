{
 "cells": [
  {
   "cell_type": "code",
   "execution_count": 2,
   "id": "d913d452-100e-4815-9578-ee401bbd624b",
   "metadata": {},
   "outputs": [
    {
     "name": "stderr",
     "output_type": "stream",
     "text": [
      "/global/homes/m/mgatti/.conda/envs/bfd_env3/lib/python3.6/site-packages/pyfits/__init__.py:22: PyFITSDeprecationWarning: PyFITS is deprecated, please use astropy.io.fits\n",
      "  PyFITSDeprecationWarning)  # noqa\n"
     ]
    }
   ],
   "source": [
    "# load catalogs\n",
    "import pickle\n",
    "def save_obj(name, obj):\n",
    "    with open(name + '.pkl', 'wb') as f:\n",
    "        pickle.dump(obj, f, protocol=3)\n",
    "        \n",
    "def load_obj(name):\n",
    "        try:\n",
    "            with open(name + '.pkl', 'rb') as f:\n",
    "                return pickle.load(f)#, encoding='latin1')\n",
    "        except:\n",
    "            with open(name + '.pkl', 'rb') as f:\n",
    "                return pickle.load(f, encoding='latin1')\n",
    "\n",
    "\n",
    "import numpy as np\n",
    "import pyfits as pf\n",
    "#save_obj('/global/cfs/cdirs/des/mgatti/BFD_CAT_V1',catalog)\n",
    "m = pf.open('/global/cfs/cdirs/des/schutt20/catalogs/y6a2_piff_v3_allres_v3_collated.fits')\n",
    "ras = m[1].data['RA']\n",
    "decs = m[1].data['DEC']\n",
    "r_mag = m[1].data['R_MAG']\n",
    "\n",
    "\n",
    "import treecorr\n",
    "\n",
    "Nbins = 20\n",
    "\n",
    "min_theta = 2.5/60.\n",
    "max_theta = 250./60.\n",
    "number_of_cores = 64\n",
    "bin_slope = 0.01\n",
    "\n",
    "\n",
    "conf = {'nbins': Nbins,\n",
    "            'min_sep': min_theta,\n",
    "            'max_sep': max_theta,\n",
    "            'sep_units': 'degrees',\n",
    "            'bin_slop': bin_slope,\n",
    "            'nodes': number_of_cores  # parameter for treecorr\n",
    "            }\n",
    "\n",
    "# laod BFD catalog ----\n",
    "catalog = load_obj('/global/cfs/cdirs/des/mgatti/BFD_CAT_V1')\n",
    "cat_data = treecorr.Catalog(ra=catalog['ra'], dec=catalog['dec'], g1=catalog['e1']-np.mean(catalog['e1']), g2=catalog['e2']-np.mean(catalog['e2']),ra_units='deg', dec_units='deg',npatch=100)\n",
    "\n",
    "# load lenses ----\n",
    "mask = r_mag>16.5\n",
    "cat_a = treecorr.Catalog(ra=ras[mask], dec=decs[mask],ra_units='deg', dec_units='deg',npatch=100)\n",
    "ng = treecorr.NGCorrelation(conf,var_method='jackknife')\n",
    "ng.process(cat_a,cat_data)\n",
    "\n",
    "\n",
    "\n",
    "\n",
    "\n",
    "gammat,gammat_im,gammaterr=ng.calculateXi() \n",
    "covj = ng.estimate_cov('jackknife')\n",
    "save_obj('stars_faint',[gammat,gammat_im,gammaterr,covj,ng])\n",
    "\n",
    "\n",
    "\n",
    "# load lenses ----\n",
    "mask = r_mag<16.5\n",
    "cat_a = treecorr.Catalog(ra=ras[mask], dec=decs[mask],ra_units='deg', dec_units='deg',npatch=100)\n",
    "ng = treecorr.NGCorrelation(conf,var_method='jackknife')\n",
    "ng.process(cat_a,cat_data)\n",
    "\n",
    "\n",
    "\n",
    "\n",
    "\n",
    "gammat,gammat_im,gammaterr=ng.calculateXi() \n",
    "covj = ng.estimate_cov('jackknife')\n",
    "save_obj('stars_bright',[gammat,gammat_im,gammaterr,covj,ng])\n",
    "\n"
   ]
  },
  {
   "cell_type": "code",
   "execution_count": 7,
   "id": "312893bf-79ba-4970-98c1-fc4bc8809d03",
   "metadata": {},
   "outputs": [],
   "source": [
    "from matplotlib.colors import LinearSegmentedColormap\n",
    "\n",
    "def load_obj(name):\n",
    "        try:\n",
    "            with open(name + '.pkl', 'rb') as f:\n",
    "                return pickle.load(f)#, encoding='latin1')\n",
    "        except:\n",
    "            with open(name + '.pkl', 'rb') as f:\n",
    "                return pickle.load(f, encoding='latin1')\n",
    "\n",
    "def hex_to_rgb(value):\n",
    "    value = value.lstrip('#')\n",
    "    lv = len(value)\n",
    "    return tuple(int(value[i:i + lv // 3], 16) for i in range(0, lv, lv // 3))\n",
    "\n",
    "\n",
    "def rgb_to_hex(rgb):\n",
    "    return '#%02x%02x%02x' % rgb\n",
    "   \n",
    "#des scheme\n",
    "colors = ['#601A4A', '#EE442F','#63ACBE']\n"
   ]
  },
  {
   "cell_type": "code",
   "execution_count": 21,
   "id": "840f2aa4-fce5-4aab-b846-15a16ad47ec5",
   "metadata": {},
   "outputs": [
    {
     "data": {
      "image/png": "[encoded data removed]",
      "text/plain": [
       "<Figure size 360x252 with 1 Axes>"
      ]
     },
     "metadata": {
      "needs_background": "light"
     },
     "output_type": "display_data"
    },
    {
     "name": "stdout",
     "output_type": "stream",
     "text": [
      "7.052246297757319 0.9965101708763672 -2.697813254354134\n"
     ]
    }
   ],
   "source": [
    "import matplotlib.pyplot as plt\n",
    "gammat,gammat_im,gammaterr,covj,ng = load_obj('stars_faint')\n",
    "th  = ng.meanr*60\n",
    "\n",
    "fig, ax = plt.subplots(1,1,sharex = True, figsize=(5,3.5))\n",
    "\n",
    "\n",
    "\n",
    "#ax.legend(fontsize=12)\n",
    "ax.set_ylabel(r\"$\\theta \\gamma_t (\\theta)$\",size=13)\n",
    "ax.set_xlabel(r\"$\\theta$\"+' [arcmin]',size=13)\n",
    "\n",
    "plt.suptitle('Tangential shear around faint stars',fontsize=14,y=1.05,x=0.6)\n",
    "ax.axhline(y=0, c='grey', alpha=0.5)\n",
    "\n",
    "\n",
    "plt.xscale('log')\n",
    "plt.tight_layout()\n",
    "chi2= np.matmul(gammat,np.matmul(np.linalg.inv(covj),gammat)) #np.sum((gammat/np.sqrt(covj.diagonal()))**2)\n",
    "chi2_im= np.sum((gammat_im/np.sqrt(covj.diagonal()))**2)\n",
    "#chi2= np.sum((gammat/np.sqrt(covj.diagonal()))**2)\n",
    "\n",
    "\n",
    "ax.errorbar(th,gammat,np.sqrt(covj.diagonal()),fmt='o', alpha = 0.6,label = 'real part $\\chi^2$={0:2.0f}/{1}'.format(chi2,20) ,markersize=7,markerfacecoloralt=colors[0],color=colors[0],fillstyle='none')\n",
    "ax.errorbar(th,gammat_im,np.sqrt(covj.diagonal()),fmt='x', alpha = 0.6,label = 'imaginary part  $\\chi^2$={0:2.0f}/{1}'.format(chi2_im,20) ,markersize=7,markerfacecoloralt=colors[1],color=colors[1],fillstyle='none')\n",
    "\n",
    "#plt.savefig('./figures/gammat_field_centers.pdf',bbox_inches='tight')\n",
    "plt.legend()\n",
    "plt.show()\n",
    "\n",
    "import pickle\n",
    "import scipy.stats\n",
    "\n",
    "pval = scipy.stats.chi2.sf(chi2, df=20) \n",
    "sigmas = scipy.stats.norm.isf(pval)\n",
    "print (chi2,pval,sigmas)\n"
   ]
  },
  {
   "cell_type": "code",
   "execution_count": 22,
   "id": "f003c885-9ae3-4a97-9128-963d923d0d4a",
   "metadata": {},
   "outputs": [
    {
     "data": {
      "text/plain": [
       "0"
      ]
     },
     "execution_count": 22,
     "metadata": {},
     "output_type": "execute_result"
    }
   ],
   "source": [
    "0"
   ]
  },
  {
   "cell_type": "code",
   "execution_count": null,
   "id": "29b84fd8-6f7c-44ee-8616-d136b3b3e0b2",
   "metadata": {},
   "outputs": [
    {
     "data": {
      "text/plain": [
       "<matplotlib.image.AxesImage at 0x14641730efd0>"
      ]
     },
     "execution_count": 20,
     "metadata": {},
     "output_type": "execute_result"
    },
    {
     "data": {
      "image/png": "[encoded data removed]",
      "text/plain": [
       "<Figure size 432x288 with 1 Axes>"
      ]
     },
     "metadata": {
      "needs_background": "light"
     },
     "output_type": "display_data"
    }
   ],
   "source": [
    "corr = np.zeros_like(covj)\n",
    "for i in range(20):\n",
    "    for j in range(20):\n",
    "        corr[i,j] = covj[i,j]/np.sqrt(covj[i,i]*covj[j,j])\n",
    "plt.imshow(corr)"
   ]
  },
  {
   "cell_type": "code",
   "execution_count": 23,
   "id": "48ea510a-7317-4489-a16d-bf0b522e9d25",
   "metadata": {},
   "outputs": [
    {
     "data": {
      "image/png": "[encoded data removed]",
      "text/plain": [
       "<Figure size 360x252 with 1 Axes>"
      ]
     },
     "metadata": {
      "needs_background": "light"
     },
     "output_type": "display_data"
    },
    {
     "name": "stdout",
     "output_type": "stream",
     "text": [
      "11.518045404071446 0.9316667422490489 -1.4883200283901827\n"
     ]
    }
   ],
   "source": [
    "import matplotlib.pyplot as plt\n",
    "gammat,gammat_im,gammaterr,covj,ng = load_obj('stars_bright')\n",
    "th  = ng.meanr*60\n",
    "\n",
    "fig, ax = plt.subplots(1,1,sharex = True, figsize=(5,3.5))\n",
    "\n",
    "\n",
    "\n",
    "#ax.legend(fontsize=12)\n",
    "ax.set_ylabel(r\"$\\theta \\gamma_t (\\theta)$\",size=13)\n",
    "ax.set_xlabel(r\"$\\theta$\"+' [arcmin]',size=13)\n",
    "\n",
    "plt.suptitle('Tangential shear around bright stars',fontsize=14,y=1.05,x=0.6)\n",
    "ax.axhline(y=0, c='grey', alpha=0.5)\n",
    "\n",
    "\n",
    "plt.xscale('log')\n",
    "plt.tight_layout()\n",
    "chi2= np.sum((gammat/np.sqrt(covj.diagonal()))**2)\n",
    "chi2_im= np.sum((gammat_im/np.sqrt(covj.diagonal()))**2)\n",
    "\n",
    "\n",
    "ax.errorbar(th,gammat,np.sqrt(covj.diagonal()),fmt='o', alpha = 0.6,label = 'real part $\\chi^2$={0:2.0f}/{1}'.format(chi2,20) ,markersize=7,markerfacecoloralt=colors[0],color=colors[0],fillstyle='none')\n",
    "ax.errorbar(th,gammat_im,np.sqrt(covj.diagonal()),fmt='x', alpha = 0.6,label = 'imaginary part  $\\chi^2$={0:2.0f}/{1}'.format(chi2_im,20) ,markersize=7,markerfacecoloralt=colors[1],color=colors[1],fillstyle='none')\n",
    "\n",
    "#plt.savefig('./figures/gammat_field_centers.pdf',bbox_inches='tight')\n",
    "plt.legend()\n",
    "plt.show()\n",
    "\n",
    "import pickle\n",
    "import scipy.stats\n",
    "\n",
    "pval = scipy.stats.chi2.sf(chi2, df=20) \n",
    "sigmas = scipy.stats.norm.isf(pval)\n",
    "print (chi2,pval,sigmas)\n"
   ]
  },
  {
   "cell_type": "code",
   "execution_count": null,
   "id": "9b1ae324-1b5a-44ad-a72d-8e3610fe4a1b",
   "metadata": {},
   "outputs": [],
   "source": []
  }
 ],
 "metadata": {
  "kernelspec": {
   "display_name": "bfd_env3",
   "language": "python",
   "name": "bfd_env3"
  },
  "language_info": {
   "codemirror_mode": {
    "name": "ipython",
    "version": 3
   },
   "file_extension": ".py",
   "mimetype": "text/x-python",
   "name": "python",
   "nbconvert_exporter": "python",
   "pygments_lexer": "ipython3",
   "version": "3.6.15"
  }
 },
 "nbformat": 4,
 "nbformat_minor": 5
}
