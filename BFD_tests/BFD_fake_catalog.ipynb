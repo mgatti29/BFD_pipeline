{
 "cells": [
  {
   "cell_type": "markdown",
   "id": "c72da900-2702-422a-a984-69e57bb844c2",
   "metadata": {},
   "source": [
    "# load shear maps"
   ]
  },
  {
   "cell_type": "code",
   "execution_count": 140,
   "id": "ae5eb7c9-2803-47af-9b51-896f043e5fda",
   "metadata": {},
   "outputs": [
    {
     "data": {
      "text/plain": [
       "\"\\n\\n\\nrel = 1\\nfrom Moments_analysis import convert_to_pix_coord, IndexToDeclRa\\ne1 = dict_temp[rel][t+1]['e1']\\ne2 = dict_temp[rel][t+1]['e2']\\n\\n\\n\""
      ]
     },
     "execution_count": 140,
     "metadata": {},
     "output_type": "execute_result"
    }
   ],
   "source": [
    "import numpy as np\n",
    "import treecorr \n",
    "import healpy as hp\n",
    "import pyfits as pf\n",
    "\n",
    "path = '/global/cfs/cdirs/des/mgatti/Dirac_mocks/shear_maps_runsL_run110_nside512_noiserel8.npy'\n",
    "dict_temp = np.load(path,allow_pickle=True).item()\n",
    "conf = dict()\n",
    "conf['nside'] = 512\n",
    "t = 3\n",
    "\n",
    "dec,ra = IndexToDeclRa(dict_temp[rel][t+1]['pix'],conf['nside'])\n",
    "\n",
    "\n",
    "m = pf.open('/global/cfs/cdirs/des/mgatti/Dirac_mocks/runsM/run063/gg_52_512.fits')\n",
    "l = pf.open('/global/cfs/cdirs/des/mgatti/Dirac_mocks/runsM/run063/lens_80_512.fits')\n",
    "\n",
    "\n",
    "g1 =  m[1].data['g1'][dict_temp[rel][t+1]['pix']]\n",
    "g2 =  -m[1].data['g2'][dict_temp[rel][t+1]['pix']]\n",
    "d  =  l[1].data['T'][dict_temp[rel][t+1]['pix']]\n",
    "\n",
    "\n",
    "'''\n",
    "\n",
    "\n",
    "rel = 1\n",
    "from Moments_analysis import convert_to_pix_coord, IndexToDeclRa\n",
    "e1 = dict_temp[rel][t+1]['e1']\n",
    "e2 = dict_temp[rel][t+1]['e2']\n",
    "\n",
    "\n",
    "'''"
   ]
  },
  {
   "cell_type": "code",
   "execution_count": 3,
   "id": "b9e61c53-5b71-4579-a118-b5fd406c4724",
   "metadata": {},
   "outputs": [
    {
     "data": {
      "text/plain": [
       "16777216.0"
      ]
     },
     "execution_count": 3,
     "metadata": {},
     "output_type": "execute_result"
    }
   ],
   "source": []
  },
  {
   "cell_type": "code",
   "execution_count": 84,
   "id": "117206d6-ad07-4359-b3b5-eb7cb1771a5f",
   "metadata": {},
   "outputs": [
    {
     "data": {
      "text/plain": [
       "array([[-0.06620017, -0.06205338]])"
      ]
     },
     "execution_count": 84,
     "metadata": {},
     "output_type": "execute_result"
    }
   ],
   "source": []
  },
  {
   "cell_type": "code",
   "execution_count": 126,
   "id": "295c1acd-17b6-45d1-8037-3bf17ea2b5f3",
   "metadata": {},
   "outputs": [],
   "source": [
    "\n",
    "\n",
    "e = np.vstack([g1,g2]).T\n",
    "R = []\n",
    "en = []\n",
    "Q = []\n",
    "for i in range(len(e)):\n",
    "    R_ = np.zeros((2,2))\n",
    "    R00 = -2000 + np.random.normal(0,20)\n",
    "    R01 =  np.random.normal(0,0.4)\n",
    "    R_[0,0] = R00\n",
    "    R_[1,1] = R00\n",
    "    R_[0,1] = R01\n",
    "    R_[1,0] = R01\n",
    "\n",
    "    R.append(R_)\n",
    "    \n",
    "    std_e = np.sqrt(1./-R00)\n",
    "    en_ = np.vstack([np.random.normal(0,std_e,1),np.random.normal(0,std_e,1)])\n",
    "    en.append((e[i]+en_.T).T)\n",
    "    Q_ = np.matmul((R_),(e[i]+en_.T).T)\n",
    "    Q.append(Q_)\n",
    "    \n",
    "en = np.array(en)[:,:,0]\n",
    "R = np.array(R)\n",
    "Q = np.array(Q)[:,:,0]"
   ]
  },
  {
   "cell_type": "code",
   "execution_count": 133,
   "id": "27b0db69-4fa5-452b-8076-ced65391277d",
   "metadata": {},
   "outputs": [
    {
     "data": {
      "text/plain": [
       "0.01115915741092674"
      ]
     },
     "execution_count": 133,
     "metadata": {},
     "output_type": "execute_result"
    }
   ],
   "source": [
    "import matplotlib.pyplot as plt\n",
    "std_e"
   ]
  },
  {
   "cell_type": "code",
   "execution_count": 127,
   "id": "055d3fc9-9d97-44e2-8d39-769b0bd2deed",
   "metadata": {},
   "outputs": [
    {
     "data": {
      "text/plain": [
       "<matplotlib.legend.Legend at 0x155478b9b240>"
      ]
     },
     "execution_count": 127,
     "metadata": {},
     "output_type": "execute_result"
    },
    {
     "data": {
      "image/png": "[encoded data removed]",
      "text/plain": [
       "<Figure size 432x288 with 1 Axes>"
      ]
     },
     "metadata": {
      "needs_background": "light"
     },
     "output_type": "display_data"
    }
   ],
   "source": [
    "Nbins = 10\n",
    "\n",
    "min_theta = 20/60.\n",
    "max_theta = 250./60.\n",
    "number_of_cores = 64\n",
    "bin_slope = 0.3\n",
    "\n",
    "\n",
    "conf = {'nbins': Nbins,\n",
    "            'min_sep': min_theta,\n",
    "            'max_sep': max_theta,\n",
    "            'sep_units': 'degrees',\n",
    "            'bin_slop': bin_slope,\n",
    "            'nodes': number_of_cores  # parameter for treecorr\n",
    "            }\n",
    "import treecorr\n",
    "\n",
    "cat_a = treecorr.Catalog(ra=ra,dec=dec, g1=en[:,0], g2=en[:,1],ra_units='deg', dec_units='deg',npatch=100)\n",
    "gg = treecorr.GGCorrelation(conf,var_method='jackknife')\n",
    "gg.process(cat_a)\n",
    "\n",
    "\n",
    "t = gg.meanr\n",
    "\n",
    "plt.errorbar(t,t*gg.xip,t*np.sqrt(gg.cov.diagonal())[:Nbins],label = r'$\\xi+$')\n",
    "plt.errorbar(t,t*gg.xim,t*np.sqrt(gg.cov.diagonal())[Nbins:],label = r'$\\xi-$')\n",
    "plt.errorbar(t,0*t*gg.xip,color='black')\n",
    "plt.xscale('log')\n",
    "plt.xlabel(r'$\\theta$ [arcmin]')\n",
    "plt.title('BFD cosmic shear')\n",
    "plt.yticks([])\n",
    "plt.legend()\n"
   ]
  },
  {
   "cell_type": "code",
   "execution_count": 132,
   "id": "b5aef217-8ca4-4d74-bb77-79665032622a",
   "metadata": {},
   "outputs": [
    {
     "data": {
      "text/plain": [
       "<matplotlib.legend.Legend at 0x1554e80189e8>"
      ]
     },
     "execution_count": 132,
     "metadata": {},
     "output_type": "execute_result"
    },
    {
     "data": {
      "image/png": "[encoded data removed]",
      "text/plain": [
       "<Figure size 432x288 with 1 Axes>"
      ]
     },
     "metadata": {
      "needs_background": "light"
     },
     "output_type": "display_data"
    }
   ],
   "source": [
    "Nbins = 10\n",
    "\n",
    "min_theta = 20/60.\n",
    "max_theta = 250./60.\n",
    "number_of_cores = 64\n",
    "bin_slope = 0.3\n",
    "\n",
    "\n",
    "conf = {'nbins': Nbins,\n",
    "            'min_sep': min_theta,\n",
    "            'max_sep': max_theta,\n",
    "            'sep_units': 'degrees',\n",
    "            'bin_slop': bin_slope,\n",
    "            'nodes': number_of_cores  # parameter for treecorr\n",
    "            }\n",
    "import treecorr\n",
    "\n",
    "R_mean = np.mean(R,axis=0)\n",
    "\n",
    "e_ = np.matmul(np.linalg.inv(R_mean),Q.T)\n",
    "\n",
    "cat_a = treecorr.Catalog(ra=ra,dec=dec, g1=e_[0,:], g2=e_[1,:],ra_units='deg', dec_units='deg',npatch=100)\n",
    "gg1 = treecorr.GGCorrelation(conf,var_method='jackknife')\n",
    "gg1.process(cat_a)\n",
    "\n",
    "\n",
    "t = gg.meanr\n",
    "\n",
    "plt.errorbar(t,t*gg.xip,t*np.sqrt(gg.cov.diagonal())[:Nbins],label = r'$\\xi+$', color='black')\n",
    "plt.errorbar(t,t*gg.xim,t*np.sqrt(gg.cov.diagonal())[Nbins:],label = r'$\\xi-$', color='red')\n",
    "plt.errorbar(t,t*gg1.xip,t*np.sqrt(gg1.cov.diagonal())[:Nbins],label = r'$\\xi+$ QR^-1', color='black',linestyle='dashed')\n",
    "plt.errorbar(t,t*gg1.xim,t*np.sqrt(gg1.cov.diagonal())[Nbins:],label = r'$\\xi-$ QR^-1', color='red',linestyle='dashed')\n",
    "plt.errorbar(t,0*t*gg.xip,color='black')\n",
    "plt.xscale('log')\n",
    "plt.xlabel(r'$\\theta$ [arcmin]')\n",
    "plt.title('cosmic shear')\n",
    "plt.yticks([])\n",
    "plt.legend()\n"
   ]
  },
  {
   "cell_type": "code",
   "execution_count": 147,
   "id": "d5acfef5-9b48-470e-ae06-c3493dce816e",
   "metadata": {},
   "outputs": [
    {
     "data": {
      "text/plain": [
       "<matplotlib.legend.Legend at 0x1554e7a50550>"
      ]
     },
     "execution_count": 147,
     "metadata": {},
     "output_type": "execute_result"
    },
    {
     "data": {
      "image/png": "[encoded data removed]",
      "text/plain": [
       "<Figure size 432x288 with 1 Axes>"
      ]
     },
     "metadata": {
      "needs_background": "light"
     },
     "output_type": "display_data"
    }
   ],
   "source": [
    "Nbins = 10\n",
    "\n",
    "min_theta = 20/60.\n",
    "max_theta = 250./60.\n",
    "number_of_cores = 64\n",
    "bin_slope = 0.3\n",
    "\n",
    "\n",
    "conf = {'nbins': Nbins,\n",
    "            'min_sep': min_theta,\n",
    "            'max_sep': max_theta,\n",
    "            'sep_units': 'degrees',\n",
    "            'bin_slop': bin_slope,\n",
    "            'nodes': number_of_cores  # parameter for treecorr\n",
    "            }\n",
    "import treecorr\n",
    "\n",
    "R_mean = np.mean(R,axis=0)\n",
    "\n",
    "e_ = np.matmul(np.linalg.inv(R_mean),Q.T)\n",
    "\n",
    "cat_a = treecorr.Catalog(ra=ra,dec=dec, g1=e_[0,:], g2=e_[1,:],ra_units='deg', dec_units='deg',npatch=100)\n",
    "cat_b = treecorr.Catalog(ra=ra,dec=dec, w = 1-d ,ra_units='deg', dec_units='deg',npatch=100)\n",
    "gg1 = treecorr.NGCorrelation(conf,var_method='jackknife')\n",
    "gg1.process(cat_b,cat_a)\n",
    "\n",
    "\n",
    "t = gg1.meanr\n",
    "\n",
    "plt.errorbar(t,t*gg1.xi,t*np.sqrt(gg1.cov.diagonal())[:Nbins],label = r'$\\gamma_t$', color='black')\n",
    "#plt.errorbar(t,t*gg.xim,t*np.sqrt(gg.cov.diagonal())[Nbins:],label = r'$\\xi-$', color='red')\n",
    "plt.errorbar(t,t*gg1.xi,t*np.sqrt(gg1.cov.diagonal())[:Nbins],label = r'$\\gamma_t$ QR^-1', color='red',linestyle='dashed')\n",
    "#plt.errorbar(t,t*gg1.xim,t*np.sqrt(gg1.cov.diagonal())[Nbins:],label = r'$\\xi-$ QR^-1', color='red',linestyle='dashed')\n",
    "plt.errorbar(t,0*t*gg.xip,color='black')\n",
    "plt.xscale('log')\n",
    "plt.xlabel(r'$\\theta$ [arcmin]')\n",
    "plt.title('ggl')\n",
    "plt.yticks([])\n",
    "plt.legend()\n"
   ]
  },
  {
   "cell_type": "code",
   "execution_count": 156,
   "id": "d69caedd-79fd-4d5c-be30-6f611cdaa3d8",
   "metadata": {},
   "outputs": [],
   "source": [
    "all_ = dict()\n",
    "all_['sources'] = dict()\n",
    "all_['lenses'] = dict()\n",
    "all_['sources']['RA'] = ra\n",
    "all_['sources']['DEC'] = dec\n",
    "all_['sources']['Q1'] = Q[:,0]\n",
    "all_['sources']['Q2'] = Q[:,1]\n",
    "all_['sources']['R11'] = R[:,0,0]\n",
    "all_['sources']['R22'] = R[:,1,1]\n",
    "all_['sources']['R12'] = R[:,0,1]\n",
    "all_['sources']['e1'] = en[:,0]\n",
    "all_['sources']['e2'] = en[:,1]\n",
    "all_['lenses']['RA'] = ra\n",
    "all_['lenses']['DEC'] = dec\n",
    "all_['lenses']['w'] = 1-d \n",
    "np.save('/global/cfs/cdirs/des/mgatti/BFD_fake_catalog',all_)\n"
   ]
  },
  {
   "cell_type": "code",
   "execution_count": null,
   "id": "61809bb9-224b-43ef-8646-2c280e02065b",
   "metadata": {},
   "outputs": [],
   "source": []
  }
 ],
 "metadata": {
  "kernelspec": {
   "display_name": "bfd_env3",
   "language": "python",
   "name": "bfd_env3"
  },
  "language_info": {
   "codemirror_mode": {
    "name": "ipython",
    "version": 3
   },
   "file_extension": ".py",
   "mimetype": "text/x-python",
   "name": "python",
   "nbconvert_exporter": "python",
   "pygments_lexer": "ipython3",
   "version": "3.6.15"
  }
 },
 "nbformat": 4,
 "nbformat_minor": 5
}
