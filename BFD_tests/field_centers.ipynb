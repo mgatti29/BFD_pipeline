{
 "cells": [
  {
   "cell_type": "markdown",
   "id": "4c60dc7e-1dc3-45fa-934a-a43350b96364",
   "metadata": {},
   "source": [
    "# field centers"
   ]
  },
  {
   "cell_type": "code",
   "execution_count": 1,
   "id": "a4996e82-8fe3-4d0d-87c5-9a386f6745b8",
   "metadata": {},
   "outputs": [
    {
     "name": "stderr",
     "output_type": "stream",
     "text": [
      "/global/homes/m/mgatti/.conda/envs/bfd_env3/lib/python3.6/site-packages/pyfits/__init__.py:22: PyFITSDeprecationWarning: PyFITS is deprecated, please use astropy.io.fits\n",
      "  PyFITSDeprecationWarning)  # noqa\n"
     ]
    }
   ],
   "source": [
    "import pyfits as pf\n",
    "# load catalogs\n",
    "import pickle\n",
    "def save_obj(name, obj):\n",
    "    with open(name + '.pkl', 'wb') as f:\n",
    "        pickle.dump(obj, f, protocol=3)\n",
    "        \n",
    "def load_obj(name):\n",
    "        try:\n",
    "            with open(name + '.pkl', 'rb') as f:\n",
    "                return pickle.load(f)#, encoding='latin1')\n",
    "        except:\n",
    "            with open(name + '.pkl', 'rb') as f:\n",
    "                return pickle.load(f, encoding='latin1')\n",
    "\n",
    "\n",
    "import numpy as np\n",
    "#save_obj('/global/cfs/cdirs/des/mgatti/BFD_CAT_V1',catalog)\n",
    "\n",
    "%matplotlib inline\n",
    "import matplotlib.pyplot as plt\n",
    "import pickle\n",
    "import numpy as np\n",
    "from matplotlib.colors import LinearSegmentedColormap\n",
    "\n",
    "def load_obj(name):\n",
    "        try:\n",
    "            with open(name + '.pkl', 'rb') as f:\n",
    "                return pickle.load(f)#, encoding='latin1')\n",
    "        except:\n",
    "            with open(name + '.pkl', 'rb') as f:\n",
    "                return pickle.load(f, encoding='latin1')\n",
    "\n",
    "def hex_to_rgb(value):\n",
    "    value = value.lstrip('#')\n",
    "    lv = len(value)\n",
    "    return tuple(int(value[i:i + lv // 3], 16) for i in range(0, lv, lv // 3))\n",
    "\n",
    "\n",
    "def rgb_to_hex(rgb):\n",
    "    return '#%02x%02x%02x' % rgb\n",
    "   \n",
    "#des scheme\n",
    "colors = ['#601A4A', '#EE442F','#63ACBE']\n",
    "\n",
    "\n"
   ]
  },
  {
   "cell_type": "code",
   "execution_count": 2,
   "id": "a63bb3a4-8b7f-4a9d-9145-501d02f187c5",
   "metadata": {},
   "outputs": [],
   "source": [
    "m = pf.open('//global/cfs/cdirs/des/mgatti/exposure_field_centers.fits')\n",
    "\n",
    "import treecorr\n",
    "\n",
    "Nbins = 20\n",
    "\n",
    "min_theta = 2.5/60.\n",
    "max_theta = 250./60.\n",
    "number_of_cores = 64\n",
    "bin_slope = 0.01\n",
    "\n",
    "\n",
    "conf = {'nbins': Nbins,\n",
    "            'min_sep': min_theta,\n",
    "            'max_sep': max_theta,\n",
    "            'sep_units': 'degrees',\n",
    "            'bin_slop': bin_slope,\n",
    "            'nodes': number_of_cores  # parameter for treecorr\n",
    "            }\n",
    "\n",
    "# laod BFD catalog ----\n",
    "catalog = load_obj('/global/cfs/cdirs/des/mgatti/BFD_CAT_V1')\n",
    "cat_data = treecorr.Catalog(ra=catalog['ra'], dec=catalog['dec'], g1=catalog['e1']-np.mean(catalog['e1']), g2=catalog['e2']-np.mean(catalog['e2']),ra_units='deg', dec_units='deg',npatch=100)\n",
    "\n",
    "# load lenses ----\n",
    "cat_a = treecorr.Catalog(ra=m[1].data['RA_CENT'], dec=m[1].data['DEC_CENT'],ra_units='deg', dec_units='deg',npatch=100)\n",
    "ng = treecorr.NGCorrelation(conf,var_method='jackknife')\n",
    "ng.process(cat_a,cat_data)\n",
    "\n",
    "\n",
    "# random \n",
    "r = pf.open('/global/cfs/cdirs/des/y6-shear-catalogs/y6-combined-hsmap_random.fits')\n",
    "\n",
    "cat_random = treecorr.Catalog(ra=r[1].data['ra'], dec=r[1].data['dec'],ra_units='deg', dec_units='deg',npatch=100)\n",
    "rg = treecorr.NGCorrelation(conf,var_method='jackknife')\n",
    "rg.process(cat_random,cat_data)\n",
    "\n",
    "\n",
    "\n",
    "\n",
    "gammat,gammat_im,gammaterr=ng.calculateXi(rg) \n",
    "covj = ng.estimate_cov('jackknife')\n",
    "save_obj('field_centers',[gammat,gammat_im,gammaterr,covj])\n"
   ]
  },
  {
   "cell_type": "code",
   "execution_count": null,
   "id": "e4d12bdf-5b8c-40bf-9572-133a521d8a63",
   "metadata": {},
   "outputs": [],
   "source": []
  },
  {
   "cell_type": "code",
   "execution_count": null,
   "id": "7cfe357c-1d78-480f-b793-dae9135e979e",
   "metadata": {},
   "outputs": [],
   "source": [
    "from Moments_analysis import apply_random_rotation,addSourceEllipticity,convert_to_pix_coord\n",
    "import healpy as hp\n",
    "\n",
    "\n",
    "# a\n",
    "nside_out = 2048\n",
    "pix = convert_to_pix_coord(ra,dec,nside_out)\n",
    "\n",
    "e1 = np.zeros(hp.nside2npix(nside_out))\n",
    "e2 = np.zeros(hp.nside2npix(nside_out))\n",
    "n_map = np.zeros(hp.nside2npix(nside_out))\n",
    "\n",
    "\n",
    "\n",
    "unique_pix, idx, idx_rep = np.unique(pix, return_index=True, return_inverse=True)\n",
    "n_map[unique_pix] += np.bincount(idx_rep, weights=w)\n",
    "e1[unique_pix] += np.bincount(idx_rep, weights=w*(g1-np.mean(g1)))\n",
    "e2[unique_pix] += np.bincount(idx_rep, weights=w*(g2-np.mean(g2)))\n",
    "\n",
    "\n",
    "mask = n_map!=0\n",
    "e2[mask] = e2[mask]/n_map[mask]\n",
    "e1[mask] = e1[mask]/n_map[mask]\n",
    "\n",
    "E,B,_ = g2k_sphere(e1, e2, e1==e1, nside=nside_out, lmax=nside_out*2)\n",
    "\n",
    "EE = hp.sphtfunc.smoothing(E,60./60/57)\n",
    "hp.mollview(EE)\n"
   ]
  },
  {
   "cell_type": "code",
   "execution_count": 6,
   "id": "843a81e9-20a4-49ec-9713-4a21eb9aaa92",
   "metadata": {},
   "outputs": [
    {
     "ename": "NameError",
     "evalue": "name 'ng' is not defined",
     "output_type": "error",
     "traceback": [
      "\u001b[0;31m---------------------------------------------------------------------------\u001b[0m",
      "\u001b[0;31mNameError\u001b[0m                                 Traceback (most recent call last)",
      "\u001b[0;32m<ipython-input-6-60f58bc88a1b>\u001b[0m in \u001b[0;36m<module>\u001b[0;34m\u001b[0m\n\u001b[0;32m----> 1\u001b[0;31m \u001b[0mth\u001b[0m  \u001b[0;34m=\u001b[0m \u001b[0mng\u001b[0m\u001b[0;34m.\u001b[0m\u001b[0mmeanr\u001b[0m\u001b[0;34m*\u001b[0m\u001b[0;36m60\u001b[0m\u001b[0;34m\u001b[0m\u001b[0;34m\u001b[0m\u001b[0m\n\u001b[0m",
      "\u001b[0;31mNameError\u001b[0m: name 'ng' is not defined"
     ]
    }
   ],
   "source": []
  },
  {
   "cell_type": "code",
   "execution_count": 8,
   "id": "191318ec-e406-4792-a82e-f2d1c7304aac",
   "metadata": {},
   "outputs": [],
   "source": []
  },
  {
   "cell_type": "code",
   "execution_count": 4,
   "id": "d8da8e11-b20c-46d5-993e-9b89864f82a8",
   "metadata": {},
   "outputs": [
    {
     "data": {
      "text/plain": [
       "array([  2.83475798,   3.56919653,   4.49460184,   5.65687804,\n",
       "         7.12202473,   8.9643232 ,  11.2897421 ,  14.21127705,\n",
       "        17.88905756,  22.52268946,  28.35237505,  35.69601749,\n",
       "        44.93065291,  56.54409364,  71.21283072,  89.65324564,\n",
       "       112.83951733, 142.06903748, 178.80803459, 225.12560688])"
      ]
     },
     "execution_count": 4,
     "metadata": {},
     "output_type": "execute_result"
    }
   ],
   "source": [
    "th"
   ]
  },
  {
   "cell_type": "code",
   "execution_count": 10,
   "id": "1e9663f9-c436-474e-a644-669eb8e6d80b",
   "metadata": {},
   "outputs": [
    {
     "data": {
      "image/png": "[encoded data removed]",
      "text/plain": [
       "<Figure size 360x252 with 1 Axes>"
      ]
     },
     "metadata": {
      "needs_background": "light"
     },
     "output_type": "display_data"
    },
    {
     "name": "stdout",
     "output_type": "stream",
     "text": [
      "25.536091882627364 0.18168556869669314 0.9089601951925681\n"
     ]
    }
   ],
   "source": [
    "gammat,gammat_im,gammaterr,covj,ng = load_obj('field_centers')\n",
    "th  = ng.meanr*60\n",
    "\n",
    "fig, ax = plt.subplots(1,1,sharex = True, figsize=(5,3.5))\n",
    "\n",
    "\n",
    "\n",
    "#plt.plot(xip_theta,xip*xip_theta*0.1)\n",
    "#diff = dd['gammat_mr']\n",
    "#cov = dd['cov_gammat_mr']['cov']\n",
    "#chi2 = np.dot(diff, np.dot(np.linalg.inv(cov), diff))\n",
    "#pval = scipy.stats.chi2.sf(chi2, df=len(diff)) \n",
    "#sigmas = scipy.stats.norm.isf(pval)\n",
    "#\n",
    "#print (pval,sigmas)\n",
    "\n",
    "\n",
    "\n",
    "#ax.legend(fontsize=12)\n",
    "ax.set_ylabel(r\"$\\theta \\gamma_t (\\theta)$\",size=13)\n",
    "ax.set_xlabel(r\"$\\theta$\"+' [arcmin]',size=13)\n",
    "\n",
    "plt.suptitle('Tangential shear around field centres',fontsize=14,y=1.05,x=0.6)\n",
    "#ax[1].set_ylim([-0.0015,0.0015])\n",
    "#ax[0].set_ylim([-0.0015,0.0015])\n",
    "\n",
    "#ax[0].ticklabel_format(style='sci', axis='y', scilimits=(0,0))\n",
    "#ax[1].ticklabel_format(style='sci', axis='y', scilimits=(0,0))\n",
    "ax.axhline(y=0, c='grey', alpha=0.5)\n",
    "\n",
    "\n",
    "plt.xscale('log')\n",
    "plt.tight_layout()\n",
    "chi2= np.sum((gammat/np.sqrt(covj.diagonal()))**2)\n",
    "chi2_im= np.sum((gammat_im/np.sqrt(covj.diagonal()))**2)\n",
    "\n",
    "\n",
    "ax.errorbar(th,th*gammat,th*np.sqrt(covj.diagonal()),fmt='o', alpha = 0.6,label = 'real part $\\chi^2$={0:2.0f}/{1}'.format(chi2,20) ,markersize=7,markerfacecoloralt=colors[0],color=colors[0],fillstyle='none')\n",
    "#ax.errorbar(th,th*gammat_im,th*np.sqrt(covj.diagonal()),fmt='x', alpha = 0.6,label = 'imaginary part  $\\chi^2$={0:2.0f}/{1}'.format(chi2_im,20) ,markersize=7,markerfacecoloralt=colors[1],color=colors[1],fillstyle='none')\n",
    "\n",
    "#plt.savefig('./figures/gammat_field_centers.pdf',bbox_inches='tight')\n",
    "plt.legend()\n",
    "#plt.ylim([-0.01,0.01])\n",
    "plt.show()\n",
    "\n",
    "import pickle\n",
    "import scipy.stats\n",
    "\n",
    "pval = scipy.stats.chi2.sf(chi2, df=20) \n",
    "sigmas = scipy.stats.norm.isf(pval)\n",
    "print (chi2,pval,sigmas)\n"
   ]
  },
  {
   "cell_type": "code",
   "execution_count": 14,
   "id": "bc605e91-5780-410c-bf13-8bbaa67734da",
   "metadata": {},
   "outputs": [
    {
     "name": "stdout",
     "output_type": "stream",
     "text": [
      "13.188306460764617 0.8691591878462861 -1.122425365885959\n"
     ]
    }
   ],
   "source": [
    "chi2= np.sum((gammat_im/np.sqrt(covj.diagonal()))**2)\n",
    "\n",
    "import pickle\n",
    "import scipy.stats\n",
    "\n",
    "pval = scipy.stats.chi2.sf(chi2, df=20) \n",
    "sigmas = scipy.stats.norm.isf(pval)\n",
    "print (chi2,pval,sigmas)"
   ]
  },
  {
   "cell_type": "code",
   "execution_count": 12,
   "id": "45ad91ee-e0bf-4870-bbf3-b7855fa8cccd",
   "metadata": {},
   "outputs": [
    {
     "data": {
      "text/plain": [
       "<matplotlib.image.AxesImage at 0x14bba998eac8>"
      ]
     },
     "execution_count": 12,
     "metadata": {},
     "output_type": "execute_result"
    },
    {
     "data": {
      "image/png": "[encoded data removed]",
      "text/plain": [
       "<Figure size 432x288 with 1 Axes>"
      ]
     },
     "metadata": {
      "needs_background": "light"
     },
     "output_type": "display_data"
    }
   ],
   "source": [
    "corr = np.zeros_like(covj)\n",
    "for i in range(20):\n",
    "    for j in range(20):\n",
    "        corr[i,j] = covj[i,j]/np.sqrt(covj[i,i]*covj[j,j])\n",
    "plt.imshow(corr)"
   ]
  },
  {
   "cell_type": "code",
   "execution_count": 26,
   "id": "03f2e2a5-2785-426d-8066-2a194d97e159",
   "metadata": {},
   "outputs": [
    {
     "data": {
      "text/plain": [
       "<matplotlib.image.AxesImage at 0x153d10368160>"
      ]
     },
     "execution_count": 26,
     "metadata": {},
     "output_type": "execute_result"
    },
    {
     "data": {
      "image/png": "[encoded data removed]",
      "text/plain": [
       "<Figure size 432x288 with 1 Axes>"
      ]
     },
     "metadata": {
      "needs_background": "light"
     },
     "output_type": "display_data"
    }
   ],
   "source": []
  },
  {
   "cell_type": "code",
   "execution_count": null,
   "id": "5726a0a4-0ad7-4607-bd9c-865c8b07b4af",
   "metadata": {},
   "outputs": [],
   "source": []
  }
 ],
 "metadata": {
  "kernelspec": {
   "display_name": "bfd_env3",
   "language": "python",
   "name": "bfd_env3"
  },
  "language_info": {
   "codemirror_mode": {
    "name": "ipython",
    "version": 3
   },
   "file_extension": ".py",
   "mimetype": "text/x-python",
   "name": "python",
   "nbconvert_exporter": "python",
   "pygments_lexer": "ipython3",
   "version": "3.6.15"
  }
 },
 "nbformat": 4,
 "nbformat_minor": 5
}
