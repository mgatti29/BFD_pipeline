{
 "cells": [
  {
   "cell_type": "markdown",
   "id": "3aba5e36-ce60-42c8-a786-695d94f3df3b",
   "metadata": {},
   "source": [
    "# intro tests"
   ]
  },
  {
   "cell_type": "markdown",
   "id": "72901a7e-c19c-4140-a995-5195a9760fd8",
   "metadata": {},
   "source": [
    "This notebook has a number of expamples to get familiar with bfd and des images."
   ]
  },
  {
   "cell_type": "code",
   "execution_count": 1,
   "id": "2c0c0b67-f6c0-4b84-9ab3-f0e2eda226db",
   "metadata": {},
   "outputs": [
    {
     "name": "stderr",
     "output_type": "stream",
     "text": [
      "/global/homes/m/mgatti/.conda/envs/bfd_env3/lib/python3.6/site-packages/pyfits/__init__.py:22: PyFITSDeprecationWarning: PyFITS is deprecated, please use astropy.io.fits\n",
      "  PyFITSDeprecationWarning)  # noqa\n"
     ]
    }
   ],
   "source": [
    "%matplotlib inline\n",
    "import matplotlib.pyplot as plt\n",
    "import numpy as np\n",
    "import multiprocessing\n",
    "from functools import partial\n",
    "import meds\n",
    "import psfex\n",
    "import bfd\n",
    "import os\n",
    "import galsim\n",
    "import ngmix.gmix as gmix\n",
    "from bfd import momentcalc as mc\n",
    "from bfd.momenttable import TemplateTable, TargetTable\n",
    "import astropy.io.fits as fits\n",
    "import copy\n",
    "from scipy.interpolate import CloughTocher2DInterpolator\n",
    "from astropy import version \n",
    "import pyfits as pf\n",
    "import ngmix\n",
    "import frogress\n",
    "import copy\n",
    "from astropy import units as uu\n",
    "from astropy.coordinates import SkyCoord\n",
    "from bfd import momentcalc as mc\n",
    "import sxdes\n",
    "import pickle\n",
    "\n",
    "\n",
    "def render_gal(gal_pars,psf_pars,wcs,shape, g1 = None, g2 = None,return_PSF=False,nbrxyref=None):\n",
    "    \n",
    "    try:\n",
    "        if psf_pars['turb']:\n",
    "            psf_gmix = ngmix.GMixModel(pars=psf_pars['pars'], model=\"turb\")\n",
    "    except:\n",
    "        psf_gmix=gmix.GMix(pars=psf_pars)\n",
    "        \n",
    "    det=np.abs(wcs.getdet()) \n",
    "    \n",
    "    jac=ngmix.jacobian.Jacobian(row=wcs.xy0[1],\n",
    "                      col=wcs.xy0[0],\n",
    "                      dudrow=wcs.jac[0,1],\n",
    "                      dudcol=wcs.jac[0,0],\n",
    "                      dvdrow=wcs.jac[1,1],\n",
    "                      dvdcol=wcs.jac[1,0])\n",
    "\n",
    "    if len(gal_pars) == 60:\n",
    "        g_ =  copy.deepcopy(gal_pars)\n",
    "        gmix_sky = ngmix.GMix(pars=g_.reshape(60))\n",
    " \n",
    "\n",
    "    else:\n",
    "        gmix_sky = gmix.GMixModel(gal_pars, model='bdf')\n",
    "\n",
    "    if (g1  != None) and (g2  != None):\n",
    "        gmix_sky = gmix_sky.get_sheared(g1,g2)\n",
    "    gmix_image = gmix_sky.convolve(psf_gmix)\n",
    "    \n",
    "    try:\n",
    "        im_psf = psf_gmix.make_image((shape,shape), jacobian=jac)#,fast_exp=True)    \n",
    "        if nbrxyref!= None:\n",
    "            v, u = jac(nbrxyref[1],nbrxyref[0])\n",
    "       \n",
    "            gmix_image.set_cen(v, u)\n",
    "        \n",
    "        image = gmix_image.make_image((shape,shape), jacobian=jac)#, fast_exp=True)\n",
    "        \n",
    "        \n",
    "        #print ('succ')\n",
    "    except:\n",
    "        #print ('fail')\n",
    "        if return_PSF:\n",
    "            return None,None,jac\n",
    "        else:\n",
    "            \n",
    "            return None,jac\n",
    "\n",
    "    if return_PSF:\n",
    "         return image,im_psf,jac\n",
    "    else:\n",
    "            \n",
    "        return image,jac\n",
    "    \n",
    "\n",
    "def _add_T_and_scale(obj_data, scale):\n",
    "    add_dt = [('T', 'f4')]\n",
    "    objs = eu.numpy_util.add_fields(obj_data, add_dt)\n",
    "    objs['flux'] *= scale**2\n",
    "    min_sigma = scale\n",
    "    min_T = 2*min_sigma**2\n",
    "    T = 2*objs['hlr']**2\n",
    "    T = T.clip(min=min_T)\n",
    "    objs['T'] = T\n",
    "    return objs\n"
   ]
  },
  {
   "cell_type": "markdown",
   "id": "7bce5913-a26c-49c0-b691-e6c2d7481fe1",
   "metadata": {},
   "source": [
    "# Load DES Y6 Wide field images"
   ]
  },
  {
   "cell_type": "markdown",
   "id": "6bc4115c-3493-4cc9-8fb7-bb5c3ee41c8e",
   "metadata": {},
   "source": [
    "We load from the data the world coordinate system (wcs), which tells use how to map pixel coordinates (x,y) to real image coordinates (u,v). In practice, this is obtained by specifying the Jacobian of the coordinate transformation (it's a 2x2 matrix). For DES, a good approximation is: \n",
    "\n",
    "duv_dxy = np.array([[0.263, 0.],[0., 0.263]])\n",
    "\n",
    "which tells us that the pixel scale is ~0.263 arcseconds.\n",
    "\n",
    "We also load from \n",
    "                                        "
   ]
  },
  {
   "cell_type": "code",
   "execution_count": 2,
   "id": "67263d2e-60f7-4007-bc2f-18bc1a395f43",
   "metadata": {},
   "outputs": [
    {
     "data": {
      "image/png": "[encoded data removed]",
      "text/plain": [
       "<Figure size 432x288 with 1 Axes>"
      ]
     },
     "metadata": {
      "needs_background": "light"
     },
     "output_type": "display_data"
    }
   ],
   "source": [
    "# load 1 image from 1 tile in the i-band.\n",
    "import glob\n",
    "#file = '/global/cscratch1/sd/mgatti/BFD/data/r/DES0158-3206_r5219p01_r_meds-Y6A2_MEDS.fits.fz'\n",
    "\n",
    "path = '/global/cscratch1/sd/mgatti/BFD/data/r/' \n",
    "files = glob.glob(path+'*')\n",
    "try:\n",
    "    file = files[0]\n",
    "\n",
    "    # DES imagescome in the form of mulit-epoch data structure files (MEDS).\n",
    "    m = meds.MEDS(file)\n",
    "\n",
    "\n",
    "    # let's select the image number 500.\n",
    "    index = 500\n",
    "    # list of the actually images\n",
    "    imlist =   np.array(m.get_cutout_list(index))[0,:,:]\n",
    "    # weitgh map (tells us the noise)\n",
    "    wtlist =   np.array(m.get_cutout_list(index, type='weight'))[0,:,:]\n",
    "    # masked pixels\n",
    "    masklist = np.array(m.get_cutout_list(index, type='bmask') )[0,:,:]\n",
    "    # list of wcs\n",
    "    jaclist =  np.array(m.get_jacobian_list(index) )[0]\n",
    "\n",
    "\n",
    "\n",
    "    ra = m['ra'][index] \n",
    "    dec = m['dec'][index] \n",
    "\n",
    "    plt.imshow(imlist) \n",
    "    plt.show() \n",
    "\n",
    "    # make wcs for BFD\n",
    "    cent=(jaclist['col0'],jaclist['row0'])\n",
    "    origin = (0.,0.)\n",
    "    duv_dxy = np.array( [ [jaclist['dudcol'], jaclist['dudrow']],\n",
    "                          [jaclist['dvdcol'], jaclist['dvdrow']] ])\n",
    "    wcs = bfd.WCS(duv_dxy,xyref=cent,uvref=origin)\n",
    "\n",
    "    # converting it into ngmix format:\n",
    "    jac=ngmix.jacobian.Jacobian(row=wcs.xy0[1],\n",
    "                          col=wcs.xy0[0],\n",
    "                          dudrow=wcs.jac[0,1],\n",
    "                          dudcol=wcs.jac[0,0],\n",
    "                          dvdrow=wcs.jac[1,1],\n",
    "                          dvdcol=wcs.jac[1,0])\n",
    "except:\n",
    "    print ('need to be at nersc!')\n",
    "    origin = (0.,0.)\n",
    "    cent = (19,19)\n",
    "    duv_dxy = np.array([[0.263, 0.],\n",
    "                        [0., 0.263]])\n",
    "    wcs = bfd.WCS(duv_dxy,xyref=cent,uvref=origin)\n",
    "    jac=ngmix.jacobian.Jacobian(row=wcs.xy0[1],\n",
    "                          col=wcs.xy0[0],\n",
    "                          dudrow=wcs.jac[0,1],\n",
    "                          dudcol=wcs.jac[0,0],\n",
    "                          dvdrow=wcs.jac[1,1],\n",
    "                          dvdcol=wcs.jac[1,0])"
   ]
  },
  {
   "cell_type": "markdown",
   "id": "bd8979a6-d581-411f-bdda-d2252f3e69eb",
   "metadata": {},
   "source": [
    "# simulate a galaxy image"
   ]
  },
  {
   "cell_type": "code",
   "execution_count": 2,
   "id": "cba25416-f9ef-4cc4-846a-1e33aa051ecf",
   "metadata": {},
   "outputs": [],
   "source": [
    "# let's load a galaxy parametetric model. in this model (called BDF...not to confuse with BFD!), you need 7 parameters to describe a galaxy.\n",
    "# you also have psf model...that requires 30 parameters.\n",
    "p = './data/all_100k_10k_size.npy'\n",
    "MOF_best_fits = np.load(p,allow_pickle=True).item()\n",
    "gal_index = 1325"
   ]
  },
  {
   "cell_type": "code",
   "execution_count": 6,
   "id": "9fd66a38-d421-4d8d-9b41-2fd0c0432a7d",
   "metadata": {},
   "outputs": [
    {
     "name": "stdout",
     "output_type": "stream",
     "text": [
      "des y3 not loaded\n"
     ]
    },
    {
     "data": {
      "image/png": "[encoded data removed]",
      "text/plain": [
       "<Figure size 432x288 with 1 Axes>"
      ]
     },
     "metadata": {
      "needs_background": "light"
     },
     "output_type": "display_data"
    },
    {
     "data": {
      "image/png": "[encoded data removed]",
      "text/plain": [
       "<Figure size 432x288 with 1 Axes>"
      ]
     },
     "metadata": {
      "needs_background": "light"
     },
     "output_type": "display_data"
    }
   ],
   "source": [
    "# this is inducing a shear in the target galaxy:\n",
    "g1=0.02\n",
    "g2=0.0\n",
    "\n",
    "# shape of the image (40x40)\n",
    "shape = 40\n",
    "# let's use the noise from the des y6 stamp.\n",
    "try:\n",
    "    noise_rms = 1./np.sqrt(np.median(wtlist))\n",
    "except:\n",
    "    print ('des y3 not loaded')\n",
    "    noise_rms = 1./np.sqrt(0.1316284)\n",
    "    \n",
    "\n",
    "# get determinant of wcs\n",
    "det=np.abs(wcs.getdet()) \n",
    "\n",
    "# render psf. Two options here: either use the psf from the model we just loaded; \n",
    "#psf_gmix=gmix.GMix(pars=MOF_best_fits[gal_index]['r']['pfs_params'])\n",
    "\n",
    "# or generate a simple gaussian psf:\n",
    "psf_fwhm = 1.\n",
    "Tpsf = ngmix.moments.fwhm_to_T(psf_fwhm)\n",
    "psf_pars = [0.0, 0.0, 0.0, -0.00, Tpsf, 1.0]\n",
    "\n",
    "# this renders the psf!\n",
    "psf_gmix = ngmix.GMixModel(pars=psf_pars, model=\"turb\")\n",
    "\n",
    "\n",
    "\n",
    "# galaxy parameters ************************\n",
    "\n",
    "gpars = MOF_best_fits[gal_index]['r']['gal_pars']\n",
    "\n",
    "# randomly rotate the galaxy\n",
    "gp = copy.deepcopy(gpars)\n",
    "twotheta = 2.0 * np.radians(np.random.randint(0,36000)*1./100.)\n",
    "cos2angle = np.cos(twotheta)\n",
    "sin2angle = np.sin(twotheta)\n",
    "\n",
    "\n",
    "mm1= gp[2] * cos2angle +  gp[3] * sin2angle\n",
    "mm2= -gp[2] * sin2angle + gp[3] * cos2angle\n",
    "gp[2] = copy.copy(mm1)\n",
    "gp[3] = copy.copy(mm2)\n",
    "            \n",
    "        \n",
    "        \n",
    "gp = copy.deepcopy(gpars)\n",
    "\n",
    "\n",
    "# first get the unsheared image *************\n",
    "\n",
    "gmix_sky = gmix.GMixModel(gp, model='bdf')\n",
    "gmix_sky = gmix_sky.get_sheared(g1,g2)\n",
    "gmix_image = gmix_sky.convolve(psf_gmix)\n",
    "\n",
    "# render full image *******\n",
    "image = gmix_image.make_image((shape,shape), jacobian=jac, fast_exp=True)\n",
    "im_psf =  psf_gmix.make_image((shape,shape), jacobian=jac,fast_exp=True)\n",
    "plt.imshow(image)\n",
    "plt.show()\n",
    "\n",
    "# add noise\n",
    "noise = np.random.normal(size = (shape,shape))*noise_rms\n",
    "image += noise\n",
    "\n",
    "plt.imshow(image)\n",
    "plt.show()\n",
    "\n",
    "\n",
    "\n"
   ]
  },
  {
   "cell_type": "markdown",
   "id": "35ce43c8-3ad7-4d1e-9126-b36877247ffc",
   "metadata": {},
   "source": [
    "# compute bfd moments"
   ]
  },
  {
   "cell_type": "code",
   "execution_count": 8,
   "id": "a6ad95eb-0de7-4508-aaba-694cecf313a9",
   "metadata": {},
   "outputs": [
    {
     "name": "stdout",
     "output_type": "stream",
     "text": [
      "des y3 not loaded\n",
      "Moments:  [ 4801.32048413 16484.94143542  -351.11603072   470.28152384\n",
      " 99392.26875076]\n",
      "S/N: 18.30\n"
     ]
    },
    {
     "data": {
      "text/plain": [
       "<matplotlib.image.AxesImage at 0x155504336ac8>"
      ]
     },
     "execution_count": 8,
     "metadata": {},
     "output_type": "execute_result"
    },
    {
     "data": {
      "image/png": "[encoded data removed]",
      "text/plain": [
       "<Figure size 432x288 with 1 Axes>"
      ]
     },
     "metadata": {
      "needs_background": "light"
     },
     "output_type": "display_data"
    }
   ],
   "source": [
    "# let's measure moments ******\n",
    "n = 4.\n",
    "sigma = 0.55\n",
    "pad_factor = 3.\n",
    "band_dict = dict()\n",
    "band_dict['bands'] = ['r']\n",
    "band_dict['weights'] = [1]\n",
    "band_dict['index'] = [0]\n",
    "\n",
    "# *************************\n",
    "\n",
    "psf_fwhm = 1\n",
    "Tpsf = ngmix.moments.fwhm_to_T(psf_fwhm)\n",
    "psf_pars = [0.0, 0.0, 0., -0.00, Tpsf, 1.0]\n",
    "psf_gmix = ngmix.GMixModel(pars=psf_pars, model=\"turb\")\n",
    "gpars = MOF_best_fits[gal_index]['r']['gal_pars']\n",
    "\n",
    "gp = copy.deepcopy(gpars)\n",
    "twotheta = 2.0 * np.radians(np.random.randint(0,36000)*1./100.)\n",
    "cos2angle = np.cos(twotheta)\n",
    "sin2angle = np.sin(twotheta)\n",
    "\n",
    "\n",
    "mm1= gp[2] * cos2angle +  gp[3] * sin2angle\n",
    "mm2= -gp[2] * sin2angle + gp[3] * cos2angle\n",
    "gp[2] = copy.copy(mm1)\n",
    "gp[3] = copy.copy(mm2)\n",
    "            \n",
    "\n",
    "gp = copy.deepcopy(gpars)\n",
    "gmix_sky = gmix.GMixModel(gp, model='bdf')\n",
    "gmix_sky = gmix_sky.get_sheared(g1*0.,g2*0.)\n",
    "gmix_image = gmix_sky.convolve(psf_gmix)\n",
    "\n",
    "image_sheared = gmix_image.make_image((shape,shape), jacobian=jac, fast_exp=True)\n",
    "im_psf =  psf_gmix.make_image((shape,shape), jacobian=jac,fast_exp=True)\n",
    "\n",
    "\n",
    "\n",
    "try:\n",
    "    noise_rms = 1./np.sqrt(np.median(wtlist))\n",
    "except:\n",
    "    print ('des y3 not loaded')\n",
    "    noise_rms = 1./np.sqrt(0.1316284)\n",
    "noise = np.random.normal(size = (shape,shape))*noise_rms\n",
    "image_sheared += noise\n",
    "\n",
    "    \n",
    "    \n",
    "kds = bfd.multiImage([image_sheared], (0,0), [im_psf], [wcs], pixel_noiselist = [noise_rms], bandlist = ['r'],pad_factor=pad_factor)\n",
    "wt = mc.KSigmaWeight(sigma = sigma) \n",
    "mul = bfd.MultiMomentCalculator(kds, wt, bandinfo = band_dict)\n",
    "xyshift, error,msg = mul.recenter()\n",
    "moments = mul\n",
    "\n",
    "mom = moments.get_moment(0,0)\n",
    "print ('Moments: ',mom.even)\n",
    "print ('S/N: {0:2.2f}'.format(mom.even[mom.M0]/np.sqrt(moments.get_covariance()[0][mom.M0,mom.M0])))\n",
    "\n",
    "plt.imshow(image_sheared)"
   ]
  },
  {
   "cell_type": "markdown",
   "id": "0a2828d9-dc89-47ad-8785-7be2d7b045cd",
   "metadata": {},
   "source": [
    "# Generate a tile and detect galaxies"
   ]
  },
  {
   "cell_type": "markdown",
   "id": "44488fd7-e379-4d86-ac95-4d49fea0432b",
   "metadata": {},
   "source": [
    "In DES, we use sExtractor to detect images.  let's create a large stamp with a few galaxies in it. "
   ]
  },
  {
   "cell_type": "code",
   "execution_count": 16,
   "id": "51f03bba-08cf-47a7-ba15-d014f706cc2f",
   "metadata": {},
   "outputs": [
    {
     "data": {
      "image/png": "[encoded data removed]",
      "text/plain": [
       "<Figure size 432x288 with 1 Axes>"
      ]
     },
     "metadata": {
      "needs_background": "light"
     },
     "output_type": "display_data"
    },
    {
     "data": {
      "text/plain": [
       "<matplotlib.collections.PathCollection at 0x15550314e898>"
      ]
     },
     "execution_count": 16,
     "metadata": {},
     "output_type": "execute_result"
    },
    {
     "data": {
      "image/png": "[encoded data removed]",
      "text/plain": [
       "<Figure size 432x288 with 1 Axes>"
      ]
     },
     "metadata": {
      "needs_background": "light"
     },
     "output_type": "display_data"
    }
   ],
   "source": [
    "size_tile = 60\n",
    "n_sources = 7\n",
    "g1 = 0.02\n",
    "g2 = 0.\n",
    "band = 'r'\n",
    "# *****\n",
    "tile = dict()\n",
    "tile['image'] = np.zeros((size_tile,size_tile))\n",
    "\n",
    "x_ = np.random.randint(20,size_tile-20,n_sources)\n",
    "y_ = np.random.randint(20,size_tile-20,n_sources)        \n",
    "\n",
    " \n",
    "# shear positions. ************************************************************\n",
    "x_a = []\n",
    "y_a = []\n",
    "shear = galsim.Shear(g1=g1, g2=g2)\n",
    "\n",
    "\n",
    "a = shear.getMatrix()\n",
    "for i in range(len(x_)):\n",
    "    # we need the canonical image center in (u, v) for undoing the\n",
    "    # shearing\n",
    "\n",
    "    row_cen = x_[i]\n",
    "    col_cen = y_[i]\n",
    "\n",
    "\n",
    "    jac = ngmix.jacobian.Jacobian(row=  size_tile/2.,\n",
    "          col =  size_tile/2.,\n",
    "          dudrow=0.,\n",
    "          dudcol=0.263,\n",
    "          dvdrow=0.263,\n",
    "          dvdcol=0.)\n",
    "\n",
    "    v_cen, u_cen = jac.get_vu(row=size_tile/2., col=size_tile/2.)\n",
    "\n",
    "    # apply WCS to get to world coords\n",
    "    v, u = jac.get_vu(row=row_cen, col=col_cen)\n",
    "\n",
    "    # unshear (subtract and then add the canonical center in u, v)\n",
    "    u = np.atleast_1d(u) - u_cen\n",
    "    v = np.atleast_1d(v) - v_cen\n",
    "\n",
    "    #print (u,v)\n",
    "\n",
    "    pos = np.vstack((u, v))\n",
    "\n",
    "    out = np.dot(a, pos)\n",
    "    assert out.shape[1] == u.shape[0]\n",
    "    u_sheared = out[0, :] + u_cen\n",
    "    v_sheared = out[1, :] + v_cen\n",
    "\n",
    "    rows_sheared, cols_sheared = jac.get_rowcol(v=v_sheared, u=u_sheared)\n",
    "\n",
    "    x_a.append(rows_sheared[0])\n",
    "    y_a.append(cols_sheared[0])\n",
    "                        \n",
    "# random psf for the tile *****************************************************************\n",
    "psf_fwhm = 0.9+(np.random.random(1)*0.3)[0] #fwhm...des has around ~1.\n",
    "Tpsf = ngmix.moments.fwhm_to_T(psf_fwhm)\n",
    "psf_pars_ = {'pars':[.0, 0., 0., 0., Tpsf, 1.0],'turb':True}\n",
    "            \n",
    "pp = list(MOF_best_fits.keys())\n",
    "\n",
    "for real in range(n_sources):\n",
    "    # make WCS for the object \n",
    "    cent=(x_a[real],y_a[real])\n",
    "    origin = (0.,0.)\n",
    "    duv_dxy = np.array([[0.263, 0.],\n",
    "                        [0., 0.263]])\n",
    "    wcs_ = bfd.WCS(duv_dxy,xyref=cent,uvref=origin)\n",
    "    p0 = pp[np.random.randint(0,len(pp),1)[0]] \n",
    "    gp = MOF_best_fits[p0][band]['gal_pars']\n",
    "    # (gp[4] is the size of the object. you might want to ignore objects with size larger than 2).\n",
    "    \n",
    "    twotheta = 2.0 * np.radians(np.random.randint(0,36000)*1./100.)\n",
    "    cos2angle = np.cos(twotheta)\n",
    "    sin2angle = np.sin(twotheta)\n",
    "    \n",
    "    mm1= gp[2] * cos2angle +  gp[3] * sin2angle\n",
    "    mm2= -gp[2] * sin2angle + gp[3] * cos2angle\n",
    "    gp[2] = copy.copy(mm1)\n",
    "    gp[3] = copy.copy(mm2)\n",
    "    \n",
    "    \n",
    "    \n",
    "    \n",
    "    mute_p,_,jac = render_gal(gp,psf_pars_,wcs_,size_tile, g1 = g1, g2 = g2,return_PSF=True)\n",
    "    tile['image'] += mute_p\n",
    "    \n",
    "\n",
    "plt.imshow(tile['image'])  \n",
    "plt.show()\n",
    "\n",
    "\n",
    "# add noise\n",
    "noise = np.random.normal(size = (size_tile,size_tile))*noise_rms\n",
    "tile['image'] +=  noise                    \n",
    "plt.imshow(tile['image'])  \n",
    "    \n",
    "    \n",
    "    \n",
    "# detect galaxies :  \n",
    "cat, seg = sxdes.run_sep(tile['image'], noise_rms)\n",
    "plt.scatter(cat['x'],cat['y'],color='red',s=10)       "
   ]
  },
  {
   "cell_type": "code",
   "execution_count": null,
   "id": "9c279104-1b93-486a-be24-bf2f6e272048",
   "metadata": {},
   "outputs": [],
   "source": []
  },
  {
   "cell_type": "code",
   "execution_count": 17,
   "id": "57bf3708-fbdc-4ead-967f-f6cfd2681e75",
   "metadata": {},
   "outputs": [
    {
     "data": {
      "text/plain": [
       "<matplotlib.collections.PathCollection at 0x15550412c0b8>"
      ]
     },
     "execution_count": 17,
     "metadata": {},
     "output_type": "execute_result"
    },
    {
     "data": {
      "image/png": "[encoded data removed]",
      "text/plain": [
       "<Figure size 432x288 with 1 Axes>"
      ]
     },
     "metadata": {
      "needs_background": "light"
     },
     "output_type": "display_data"
    }
   ],
   "source": [
    "# bfd moments Mf detection\n",
    "sigma = 0.55\n",
    "\n",
    "#render the psf. needs to be at the center of the stamp!\n",
    "cent=(size_tile/2.,size_tile/2.)\n",
    "origin = (0.,0.)\n",
    "duv_dxy = np.array([[0.263, 0.],\n",
    "                    [0., 0.263]])\n",
    "wcs_ = bfd.WCS(duv_dxy,xyref=cent,uvref=origin)\n",
    "_,psf_,_ = render_gal(gp,psf_pars_,wcs_,size_tile, g1 = 0., g2 = 0.,return_PSF=True)\n",
    "    \n",
    "    \n",
    "    \n",
    "# now, let's construct an effective 'flux moment' map by computing Mf for every pixel of the tile.\n",
    "\n",
    "# start from one corner.\n",
    "cent=(0,0)\n",
    "origin = (0.,0.)\n",
    "duv_dxy = np.array([[0.263, 0.],\n",
    "                    [0., 0.263]])\n",
    "wcs = bfd.WCS(duv_dxy,xyref=cent,uvref=origin)\n",
    "\n",
    "\n",
    "\n",
    "\n",
    "kds = bfd.multiImage([tile['image']], (0,0), [psf_], [wcs], pixel_noiselist = [noise_rms], bandlist = ['r'],pad_factor=pad_factor)\n",
    "wt = mc.KSigmaWeight(sigma = sigma) \n",
    "mul = bfd.MultiMomentCalculator(kds, wt, bandinfo = band_dict)\n",
    "#xyshift, error,msg = mul.recenter()\n",
    "moments = mul\n",
    "cov,_ = moments.get_covariance()\n",
    "sigma_mf = np.sqrt(cov[0,0])\n",
    "\n",
    "mf_map = np.zeros(tile['image'].shape)\n",
    "for i in range(tile['image'].shape[0]):\n",
    "    for j in range(tile['image'].shape[0]):\n",
    "        dx1,dy1 = wcs.getuv( np.array([i,j],dtype=float))\n",
    "        mom = moments.get_moment(dy1,dx1)\n",
    "        mf_map[i,j] = mom.even[0]/sigma_mf\n",
    "        \n",
    "        \n",
    "\n",
    "# plot Mf flux map and maxima\n",
    "def find_maxima(image1):\n",
    "    # SN> 5 & larger than the 8 adjacent pixels.\n",
    "    map_maxima = copy.deepcopy(image1)[1:-1,1:-1]\n",
    "    max_map = np.zeros(image1.shape)\n",
    "    max_map[1:-1,1:-1] = (map_maxima-image1[:-2,1:-1]>0.) & \\\n",
    "    (map_maxima-image1[1:-1,:-2]>0.) & \\\n",
    "    (map_maxima-image1[2:,1:-1]>0.) & \\\n",
    "    (map_maxima-image1[1:-1,2:]>0.) & \\\n",
    "    (map_maxima-image1[:-2,:-2]>0.) & \\\n",
    "    (map_maxima-image1[:-2,2:]>0.) & \\\n",
    "    (map_maxima-image1[2:,:-2]>0.) & \\\n",
    "    (map_maxima-image1[2:,2:]>0.) & (image1[1:-1,1:-1]>5.)\n",
    "    \n",
    "    return max_map\n",
    "plt.imshow((mf_map))\n",
    "plt.scatter(np.where(find_maxima(mf_map))[1],np.where(find_maxima(mf_map))[0],color='red')"
   ]
  },
  {
   "cell_type": "markdown",
   "id": "747a133b-cdd1-46af-916e-e2f2d31b6f53",
   "metadata": {},
   "source": [
    "# shredder"
   ]
  },
  {
   "cell_type": "code",
   "execution_count": 18,
   "id": "9b45afd0-362e-43ab-b408-6be22877e29a",
   "metadata": {},
   "outputs": [
    {
     "data": {
      "image/png": "[encoded data removed]",
      "text/plain": [
       "<Figure size 432x288 with 1 Axes>"
      ]
     },
     "metadata": {
      "needs_background": "light"
     },
     "output_type": "display_data"
    },
    {
     "data": {
      "text/plain": [
       "<matplotlib.image.AxesImage at 0x155503d8bef0>"
      ]
     },
     "execution_count": 18,
     "metadata": {},
     "output_type": "execute_result"
    },
    {
     "data": {
      "image/png": "[encoded data removed]",
      "text/plain": [
       "<Figure size 432x288 with 1 Axes>"
      ]
     },
     "metadata": {
      "needs_background": "light"
     },
     "output_type": "display_data"
    }
   ],
   "source": [
    "import shredder\n",
    "import esutil as eu\n",
    "seed = 113\n",
    "rng = np.random.RandomState(seed)\n",
    "guess_model = 'dev'\n",
    "weight_map = np.ones_like(tile['image'])/noise_rms\n",
    "jac_shredder = ngmix.jacobian.Jacobian(row= tile['image'].shape[0]/2.,\n",
    "                                              col= tile['image'].shape[1]/2.,\n",
    "                                              dudrow=wcs_.jac[0,1],\n",
    "                                              dudcol=wcs_.jac[0,0],\n",
    "                                              dvdrow=wcs_.jac[1,1],\n",
    "                                              dvdcol=wcs_.jac[1,0])    \n",
    "\n",
    "# neet do provide the psf to the shredder and recast it into a ngmix observation object\n",
    "psf_o = ngmix.Observation(psf_,jacobian=jac_shredder)\n",
    "\n",
    "# now we need to create a ngmix object for the tile\n",
    "mbobs_ = ngmix.Observation(tile['image'],weight=weight_map,\n",
    "                                    meta={\"orig_row\": (tile['image'].shape[0])/2., \"orig_col\": (tile['image'].shape[1])/2.},\n",
    "                                    jacobian=jac_shredder,\n",
    "                                    psf=psf_o)\n",
    "mbobs_ = ngmix.observation.get_mb_obs(mbobs_)\n",
    "\n",
    "\n",
    "\n",
    "dt = np.dtype([('shift', '<f4', (2,)),('flux', 'f4'), ('hlr', 'f4'),('col', 'f4'),('row', 'f4')])\n",
    "\n",
    "       \n",
    "# give guesses to shredder\n",
    "m = []\n",
    "for i in range(len(cat['flux'])):\n",
    "    m.append(((0.,0.),cat['flux'][i],\n",
    "            cat['flux_radius'][i],\n",
    "            cat['x'][i],\n",
    "            cat['y'][i]))\n",
    "d_ = np.array([m],dtype=dt)\n",
    "objs_ = _add_T_and_scale(d_[0],0.263)\n",
    "gm_guess = shredder.get_guess(\n",
    "    objs_,\n",
    "    jacobian=mbobs_[0][0].jacobian,\n",
    "    model=guess_model,\n",
    "    rng=rng,\n",
    ")\n",
    "\n",
    "# run shredder\n",
    "s = shredder.Shredder(obs=mbobs_, psf_ngauss=2, rng=rng)\n",
    "s.shred(gm_guess)\n",
    "res = s.get_result()\n",
    "                            \n",
    "# get models\n",
    "models = s.get_model_images()\n",
    "\n",
    "# render models ++++\n",
    "plt.imshow(models[0])\n",
    "plt.show()\n",
    "# residuals\n",
    "plt.imshow(tile['image']-models[0])"
   ]
  },
  {
   "cell_type": "code",
   "execution_count": 19,
   "id": "733a59f3-1def-493d-83fc-a0292f4b953e",
   "metadata": {},
   "outputs": [
    {
     "data": {
      "image/png": "[encoded data removed]",
      "text/plain": [
       "<Figure size 432x288 with 1 Axes>"
      ]
     },
     "metadata": {
      "needs_background": "light"
     },
     "output_type": "display_data"
    },
    {
     "data": {
      "text/plain": [
       "<matplotlib.image.AxesImage at 0x155502d08320>"
      ]
     },
     "execution_count": 19,
     "metadata": {},
     "output_type": "execute_result"
    },
    {
     "data": {
      "image/png": "[encoded data removed]",
      "text/plain": [
       "<Figure size 432x288 with 1 Axes>"
      ]
     },
     "metadata": {
      "needs_background": "light"
     },
     "output_type": "display_data"
    }
   ],
   "source": [
    "# now magine you want to render all the models exxcept one galaxy.\n",
    "\n",
    "\n",
    "#coordinate target galaxy\n",
    "x_ref = cat['x'][0]\n",
    "y_ref = cat['y'][0]\n",
    "\n",
    "\n",
    "# let's assume I want to render all the models outside a 0.5 arcsec radius of the target galaxy.\n",
    "pa_= res['band_gmix_convolved'][0].get_data()\n",
    "# centers of the models\n",
    "x_ = pa_['col']/0.263+tile['image'].shape[0]/2.\n",
    "y_ = pa_['row']/0.263+tile['image'].shape[1]/2.\n",
    "\n",
    "catalog_input = SkyCoord(ra=x_*uu.arcsec*0.263, dec=y_*uu.arcsec*0.263)  \n",
    "catalog_1 = SkyCoord(ra=[x_ref]*uu.arcsec*0.263, dec=[y_ref]*uu.arcsec*0.263)  \n",
    "min_scale = 0.5        \n",
    "idx_, Aidx, d2d, d3d = catalog_input.search_around_sky(catalog_1, min_scale*uu.arcsec)\n",
    "\n",
    "\n",
    "pars = np.zeros(len(Aidx) * 6)\n",
    "ref = 0\n",
    "for i in range(len(Aidx)):\n",
    "    pars[ref + 0] = pa_[\"p\"][i]\n",
    "    pars[ref + 1] = pa_[\"row\"][i]\n",
    "    pars[ref + 2] = pa_[\"col\"][i]\n",
    "    pars[ref + 3] = pa_[\"irr\"][i]\n",
    "    pars[ref + 4] = pa_[\"irc\"][i]\n",
    "    pars[ref + 5] = pa_[\"icc\"][i]\n",
    "    ref += 6\n",
    "gm = ngmix.GMix(pars=pars)\n",
    "im0 = gm.make_image((tile['image'].shape[0],tile['image'].shape[1]), jacobian=jac_shredder)\n",
    "# model target galaxy\n",
    "plt.imshow(im0)      \n",
    "plt.show()\n",
    "# all the other models\n",
    "plt.imshow(models[0]-im0) "
   ]
  },
  {
   "cell_type": "code",
   "execution_count": null,
   "id": "9da63b6a-2de6-43b7-97c7-3b463d2b9173",
   "metadata": {},
   "outputs": [],
   "source": []
  }
 ],
 "metadata": {
  "kernelspec": {
   "display_name": "bfd_env3",
   "language": "python",
   "name": "bfd_env3"
  },
  "language_info": {
   "codemirror_mode": {
    "name": "ipython",
    "version": 3
   },
   "file_extension": ".py",
   "mimetype": "text/x-python",
   "name": "python",
   "nbconvert_exporter": "python",
   "pygments_lexer": "ipython3",
   "version": "3.6.15"
  }
 },
 "nbformat": 4,
 "nbformat_minor": 5
}
