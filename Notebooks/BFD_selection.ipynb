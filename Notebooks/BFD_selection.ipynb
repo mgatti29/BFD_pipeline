{
 "cells": [
  {
   "cell_type": "markdown",
   "id": "7b645bca-78ee-48d5-a78e-a2a2a37f8c1c",
   "metadata": {},
   "source": [
    "# BFD selection"
   ]
  },
  {
   "cell_type": "code",
   "execution_count": 2,
   "id": "33b4c20c-f253-455c-b7cc-44835883f9a2",
   "metadata": {
    "tags": []
   },
   "outputs": [
    {
     "name": "stdout",
     "output_type": "stream",
     "text": [
      "[12  2] [0 0 0 ... 0 0 0] [8 6 8 ... 2 2 2]\n",
      "Tier 0 gets 76722 targets\n",
      "Tier 1 gets 3722 targets\n",
      "Tier 2 gets 697541 targets\n",
      "Tier 3 gets 52949 targets\n",
      "Tier 4 gets 6279464 targets\n",
      "Tier 5 gets 631812 targets\n",
      "Tier 6 gets 9505813 targets\n",
      "Tier 7 gets 1895860 targets\n",
      "Tier 8 gets 3457998 targets\n",
      "Tier 9 gets 1273971 targets\n",
      "Tier 10 gets 760470 targets\n",
      "Tier 11 gets 387662 targets\n",
      "Tier 12 gets 239435 targets\n",
      "Tier 13 gets 126922 targets\n",
      "Tier 14 gets 109949 targets\n",
      "Tier 15 gets 55156 targets\n",
      "Tier 16 gets 46721 targets\n",
      "Tier 17 gets 27733 targets\n",
      "Tier 18 gets 17597 targets\n",
      "Tier 19 gets 14960 targets\n",
      "Tier 20 gets 3966 targets\n",
      "Tier 21 gets 4061 targets\n",
      "Tier 22 gets 1632 targets\n",
      "Tier 23 gets 3084 targets\n"
     ]
    },
    {
     "name": "stderr",
     "output_type": "stream",
     "text": [
      "/tmp/ipykernel_202192/3211127281.py:29: DeprecationWarning: `np.int` is a deprecated alias for the builtin `int`. To silence this warning, use `int` by itself. Doing this will not modify any behavior and is safe. When replacing `np.int`, you may wish to use e.g. `np.int64` or `np.int32` to specify the precision. If you wish to review your current use, check the release note link for additional information.\n",
      "Deprecated in NumPy 1.20; for more details and guidance: https://numpy.org/devdocs/release/1.20.0-notes.html#deprecations\n",
      "  noisetier_targets_2 = -1*np.ones(covariance.shape[0]).astype(np.int)\n"
     ]
    }
   ],
   "source": [
    "import astropy.io.fits as fits\n",
    "from bfd import TierCollection\n",
    "import numpy as np\n",
    "import healsparse\n",
    "\n",
    "# load targets\n",
    "targets = fits.open('/global/cfs/cdirs/des/mgatti/BFD_targets_newrun/targets.fits')\n",
    "targets_extrainfo = fits.open('/global/cfs/cdirs/des/mgatti/BFD_targets_newrun/targets_extrainfo.fits')\n",
    "\n",
    "# load noisetiers\n",
    "tc = TierCollection.load('/global/cfs/cdirs/des/mgatti/BFD_targets_newrun//noisetiers.fits')\n",
    "noisetier = fits.open('/global/cfs/cdirs/des/mgatti/BFD_targets_newrun/noisetiers.fits')\n",
    "\n",
    "# \n",
    "noisetier_targets = targets[1].data['NOISETIER']\n",
    "Mf = targets[1].data['moments'][:,0]\n",
    "covariance = targets[1].data['covariance']\n",
    "ra = targets_extrainfo[1].data['ra']\n",
    "dec = targets_extrainfo[1].data['dec']\n",
    "\n",
    "unique_noisetier = np.unique(noisetier_targets)\n",
    "\n",
    "# selection 1 ----\n",
    "# (exclude large objects)\n",
    "mask = (targets[1].data['moments'][:,1]/targets[1].data['moments'][:,0] > 2.2) \n",
    "\n",
    "# Assign noisetiers. In the targets catalog, this is already done (\"noistetier_targets\")\n",
    "# but this code shows you how to do it for other objects.\n",
    "nt_2 = tc.assign(covariance)\n",
    "noisetier_targets_2 = -1*np.ones(covariance.shape[0]).astype(np.int)\n",
    "for key in nt_2.keys():\n",
    "    noisetier_targets_2[nt_2[key]]=key\n",
    "    \n",
    "# noistetier_targets_2 will be the same as noistetier_targets.\n",
    "\n",
    "\n",
    "# SN selection ---\n",
    "# The SN selection is applied tier-by-tier. We  use the targets' flux moment and a tier mean flux covariance.\n",
    "\n",
    "sn_min = 7\n",
    "sn_max = 200\n",
    "\n",
    "mask_sn  = np.array([False]*len(noisetier_targets))\n",
    "for tier in range(20):\n",
    "    mask_nt = noisetier_targets == tier\n",
    "\n",
    "    mean_cov_mf = (noisetier[1+tier].data['COVARIANCE'][0,0])\n",
    "    min_flux = sn_min * np.sqrt(mean_cov_mf)\n",
    "    max_flux = sn_max * np.sqrt(mean_cov_mf)\n",
    "    mask_sn[mask_nt] = (Mf[mask_nt] > min_flux) & (Mf[mask_nt] < max_flux)\n",
    "    \n",
    "    \n",
    "# hleda mask\n",
    "fname = '/global/cfs/cdirs/des/y6-shear-catalogs/y6-combined-hleda-gaiafull-des-stars-hsmap16384-nomdet-v3.fits'\n",
    "hmap = healsparse.HealSparseMap.read(fname)\n",
    "in_footprint = hmap.get_values_pos(\n",
    "        ra,dec, valid_mask=True)\n",
    "\n",
    "# mask tot\n",
    "mask_tot = mask_sn & mask & in_footprint  \n",
    "len(mask_tot[mask_tot]) "
   ]
  },
  {
   "cell_type": "code",
   "execution_count": 3,
   "id": "69177b42-90f6-4fb7-9236-5c5d4c26d59e",
   "metadata": {
    "tags": []
   },
   "outputs": [],
   "source": []
  }
 ],
 "metadata": {
  "kernelspec": {
   "display_name": "perlmutter_env",
   "language": "python",
   "name": "perlmutter_env"
  },
  "language_info": {
   "codemirror_mode": {
    "name": "ipython",
    "version": 3
   },
   "file_extension": ".py",
   "mimetype": "text/x-python",
   "name": "python",
   "nbconvert_exporter": "python",
   "pygments_lexer": "ipython3",
   "version": "3.8.13"
  }
 },
 "nbformat": 4,
 "nbformat_minor": 5
}
